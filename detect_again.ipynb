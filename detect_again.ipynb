{
  "cells": [
    {
      "cell_type": "code",
      "execution_count": null,
      "source": [
        "%matplotlib inline"
      ],
      "outputs": [],
      "metadata": {
        "collapsed": false
      }
    },
    {
      "cell_type": "markdown",
      "source": [
        "\r\n",
        "# Graphene Detect again\r\n"
      ],
      "metadata": {}
    },
    {
      "cell_type": "markdown",
      "source": [
        "## Enable GPU dynamic memory allocation"
      ],
      "metadata": {}
    },
    {
      "cell_type": "code",
      "execution_count": null,
      "source": [
        "import os\r\n",
        "os.environ['TF_CPP_MIN_LOG_LEVEL'] = '2'    # Suppress TensorFlow logging (1)\r\n",
        "import pathlib\r\n",
        "import tensorflow as tf\r\n",
        "\r\n",
        "tf.get_logger().setLevel('ERROR')           # Suppress TensorFlow logging (2)\r\n",
        "\r\n",
        "gpus = tf.config.experimental.list_physical_devices('GPU')\r\n",
        "for gpu in gpus:\r\n",
        "    tf.config.experimental.set_memory_growth(gpu, True)\r\n"
      ],
      "outputs": [],
      "metadata": {
        "collapsed": false
      }
    },
    {
      "cell_type": "markdown",
      "source": [
        "## Load the model"
      ],
      "metadata": {}
    },
    {
      "cell_type": "code",
      "execution_count": null,
      "source": [
        "import time\r\n",
        "from object_detection.utils import label_map_util\r\n",
        "from object_detection.utils import visualization_utils as viz_utils\r\n",
        "\r\n",
        "PATH_TO_MODEL_DIR = str(pathlib.Path.cwd() / 'my_model_centernet')\r\n",
        "PATH_TO_SAVED_MODEL = PATH_TO_MODEL_DIR + \"/saved_model\"\r\n",
        "\r\n",
        "print('Loading model...', end='')\r\n",
        "start_time = time.time()\r\n",
        "\r\n",
        "# Load saved model and build the detection function\r\n",
        "detect_fn = tf.saved_model.load(PATH_TO_SAVED_MODEL)\r\n",
        "\r\n",
        "end_time = time.time()\r\n",
        "elapsed_time = end_time - start_time\r\n",
        "print('Done! Took {} seconds'.format(elapsed_time))"
      ],
      "outputs": [],
      "metadata": {
        "collapsed": false
      }
    },
    {
      "cell_type": "markdown",
      "source": [
        "## Load label map data (for plotting)\r\n",
        "Label maps correspond index numbers to category names, so that when our convolution network\r\n",
        "predicts `1`, we know that this corresponds to `graphene`.  Here we use internal utility\r\n",
        "functions, but anything that returns a dictionary mapping integers to appropriate string labels\r\n",
        "would be fine.\r\n",
        "\r\n"
      ],
      "metadata": {}
    },
    {
      "cell_type": "code",
      "execution_count": null,
      "source": [
        "PATH_TO_LABELS = str(pathlib.Path.cwd() / 'label_map.pbtxt')\r\n",
        "category_index = label_map_util.create_category_index_from_labelmap(PATH_TO_LABELS, use_display_name=True)"
      ],
      "outputs": [],
      "metadata": {
        "collapsed": false
      }
    },
    {
      "cell_type": "markdown",
      "source": [
        "## Putting everything together\n",
        "The code shown below loads an image, runs it through the detection model and visualizes the\n",
        "detection results, including the keypoints.\n",
        "\n",
        "Note that this will take a long time (several minutes) the first time you run this code due to\n",
        "tf.function's trace-compilation --- on subsequent runs (e.g. on new images), things will be\n",
        "faster.\n",
        "\n",
        "Here are some simple things to try out if you are curious:\n",
        "\n",
        "* Modify some of the input images and see if detection still works. Some simple things to try out here (just uncomment the relevant portions of code) include flipping the image horizontally, or converting to grayscale (note that we still expect the input image to have 3 channels).\n",
        "* Print out `detections['detection_boxes']` and try to match the box locations to the boxes in the image.  Notice that coordinates are given in normalized form (i.e., in the interval [0, 1]).\n",
        "* Set ``min_score_thresh`` to other values (between 0 and 1) to allow more detections in or to filter out more detections.\n",
        "\n"
      ],
      "metadata": {}
    },
    {
      "cell_type": "code",
      "execution_count": null,
      "source": [
        "import numpy as np\r\n",
        "from PIL import Image\r\n",
        "import matplotlib.pyplot as plt\r\n",
        "import shutil\r\n",
        "import warnings\r\n",
        "warnings.filterwarnings('ignore')   # Suppress Matplotlib warnings\r\n",
        "from modify_saturation import modify_lightness_saturation\r\n",
        "import cv2\r\n",
        "import pandas as pd\r\n",
        "\r\n",
        "# enter data name and filter probability\r\n",
        "folder_name = input(\"please enter folder name\\n\")\r\n",
        "FOLDER_PATH = f'./{folder_name}'\r\n",
        "RESULT_PATH = f'{FOLDER_PATH}/Detection result/detection again'\r\n",
        "if not os.path.exists(RESULT_PATH):\r\n",
        "    os.mkdir(RESULT_PATH)\r\n",
        "probability = float(input(\"please enter filter probability\\n\"))\r\n",
        "main_coor = pd.read_table(f'{FOLDER_PATH}/Detection result/main_coordinates.txt', sep='\\t')\r\n",
        "\r\n",
        "def load_image_into_numpy_array_mod(path):\r\n",
        "    \"\"\"Load an image from file into a numpy array.\r\n",
        "\r\n",
        "    Puts image into numpy array to feed into tensorflow graph.\r\n",
        "    Note that by convention we put it into a numpy array with shape\r\n",
        "    (height, width, channels), where channels=3 for RGB.\r\n",
        "\r\n",
        "    Args:\r\n",
        "      path: the file path to the image\r\n",
        "\r\n",
        "    Returns:\r\n",
        "      uint8 numpy array with shape (img_height, img_width, 3)\r\n",
        "    \"\"\"\r\n",
        "    image = cv2.imread(path)\r\n",
        "    image = modify_lightness_saturation(image, 20, 300)\r\n",
        "    image = Image.fromarray(cv2.cvtColor(image,cv2.COLOR_BGR2RGB))\r\n",
        "    image = np.array(image)\r\n",
        "    \r\n",
        "    return image\r\n",
        "\r\n",
        "def load_image_into_numpy_array(path):\r\n",
        "    \"\"\"Load an image from file into a numpy array.\r\n",
        "\r\n",
        "    Puts image into numpy array to feed into tensorflow graph.\r\n",
        "    Note that by convention we put it into a numpy array with shape\r\n",
        "    (height, width, channels), where channels=3 for RGB.\r\n",
        "\r\n",
        "    Args:\r\n",
        "      path: the file path to the image\r\n",
        "\r\n",
        "    Returns:\r\n",
        "      uint8 numpy array with shape (img_height, img_width, 3)\r\n",
        "    \"\"\"\r\n",
        "    return np.array(Image.open(path))\r\n",
        "\r\n",
        "def detect(flip_horizontally=False, grayscale=False, not_photo=1):\r\n",
        "  # Count the number of photos\r\n",
        "  num_file = len([name for name in os.listdir(FOLDER_PATH) if os.path.isfile(os.path.join(FOLDER_PATH, name))])-not_photo\r\n",
        "  IMAGE_PATHS = [f'{FOLDER_PATH}/{i}.png' for i in range(num_file)]\r\n",
        "\r\n",
        "  for n,image_path in enumerate(IMAGE_PATHS):\r\n",
        "\r\n",
        "      print('Running inference for {}... '.format(image_path), end='')\r\n",
        "      \r\n",
        "      image_np = load_image_into_numpy_array(image_path)\r\n",
        "\r\n",
        "      # Things to try:\r\n",
        "      if flip_horizontally:\r\n",
        "        image_np = np.fliplr(image_np).copy()\r\n",
        "        \r\n",
        "      # Convert image to grayscale\r\n",
        "      if grayscale:\r\n",
        "        image_np = np.tile(np.mean(image_np, 2, keepdims=True), (1, 1, 3)).astype(np.uint8)\r\n",
        "\r\n",
        "      # The input needs to be a tensor, convert it using `tf.convert_to_tensor`.\r\n",
        "      input_tensor = tf.convert_to_tensor(image_np)\r\n",
        "      # The model expects a batch of images, so add an axis with `tf.newaxis`.\r\n",
        "      input_tensor = input_tensor[tf.newaxis, ...]\r\n",
        "\r\n",
        "      # input_tensor = np.expand_dims(image_np, 0)\r\n",
        "      detections = detect_fn(input_tensor)\r\n",
        "\r\n",
        "      # All outputs are batches tensors.\r\n",
        "      # Convert to numpy arrays, and take index [0] to remove the batch dimension.\r\n",
        "      # We're only interested in the first num_detections.\r\n",
        "      num_detections = int(detections.pop('num_detections'))\r\n",
        "      detections = {key: value[0, :num_detections].numpy()\r\n",
        "                    for key, value in detections.items()}\r\n",
        "      detections['num_detections'] = num_detections\r\n",
        "\r\n",
        "      # detection_classes should be ints.\r\n",
        "      detections['detection_classes'] = detections['detection_classes'].astype(np.int64)\r\n",
        "\r\n",
        "      image_np_with_detections = image_np.copy()\r\n",
        "\r\n",
        "      viz_utils.visualize_boxes_and_labels_on_image_array(\r\n",
        "            image_np_with_detections,\r\n",
        "            detections['detection_boxes'],\r\n",
        "            detections['detection_classes'],\r\n",
        "            detections['detection_scores'],\r\n",
        "            category_index,\r\n",
        "            use_normalized_coordinates=True,\r\n",
        "            max_boxes_to_draw=200,\r\n",
        "            min_score_thresh=.30,\r\n",
        "            agnostic_mode=False)\r\n",
        "\r\n",
        "      print('Done')\r\n",
        "\r\n",
        "      print('Probability: ', detections['detection_scores'][0])\r\n",
        "      if detections['detection_scores'][0] > probability:\r\n",
        "        print('getcha!')\r\n",
        "        plt.figure()\r\n",
        "        plt.imshow(image_np_with_detections)\r\n",
        "        # save photos\r\n",
        "        plt.savefig(f'{RESULT_PATH}/{n}d.png')\r\n",
        "        shutil.copyfile(f'{FOLDER_PATH}/{n}.png', f'{RESULT_PATH}/{n}.png')\r\n",
        "        # Write info to a txt\r\n",
        "        f = open(f'{RESULT_PATH}/Log file.txt', 'a')\r\n",
        "        f.write(f'{n}.png\\t({main_coor.iloc[n][0]}, {main_coor.iloc[n][1]})\\n')\r\n",
        "        f.close()\r\n",
        "  plt.show()\r\n",
        "\r\n",
        "  # sphinx_gallery_thumbnail_number = 2\r\n",
        "\r\n",
        "detect(flip_horizontally=False, grayscale=False)"
      ],
      "outputs": [],
      "metadata": {}
    }
  ],
  "metadata": {
    "kernelspec": {
      "display_name": "Python 3",
      "language": "python",
      "name": "python3"
    },
    "language_info": {
      "codemirror_mode": {
        "name": "ipython",
        "version": 3
      },
      "file_extension": ".py",
      "mimetype": "text/x-python",
      "name": "python",
      "nbconvert_exporter": "python",
      "pygments_lexer": "ipython3",
      "version": "3.9.5"
    }
  },
  "nbformat": 4,
  "nbformat_minor": 2
}